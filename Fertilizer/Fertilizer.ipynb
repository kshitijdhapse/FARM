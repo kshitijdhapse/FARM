{
 "cells": [
  {
   "cell_type": "code",
   "execution_count": 58,
   "id": "feab4711",
   "metadata": {},
   "outputs": [],
   "source": [
    "import pandas as pd\n",
    "import numpy as np"
   ]
  },
  {
   "cell_type": "code",
   "execution_count": 59,
   "id": "605a1ca9",
   "metadata": {},
   "outputs": [],
   "source": [
    "fertilizer_data=pd.read_csv('FertilizerPrediction.csv')"
   ]
  },
  {
   "cell_type": "code",
   "execution_count": 60,
   "id": "996efb1e",
   "metadata": {},
   "outputs": [
    {
     "data": {
      "text/html": [
       "<div>\n",
       "<style scoped>\n",
       "    .dataframe tbody tr th:only-of-type {\n",
       "        vertical-align: middle;\n",
       "    }\n",
       "\n",
       "    .dataframe tbody tr th {\n",
       "        vertical-align: top;\n",
       "    }\n",
       "\n",
       "    .dataframe thead th {\n",
       "        text-align: right;\n",
       "    }\n",
       "</style>\n",
       "<table border=\"1\" class=\"dataframe\">\n",
       "  <thead>\n",
       "    <tr style=\"text-align: right;\">\n",
       "      <th></th>\n",
       "      <th>Temparature</th>\n",
       "      <th>Humidity</th>\n",
       "      <th>Moisture</th>\n",
       "      <th>Soil Type</th>\n",
       "      <th>Crop Type</th>\n",
       "      <th>Nitrogen</th>\n",
       "      <th>Potassium</th>\n",
       "      <th>Phosphorous</th>\n",
       "      <th>Fertilizer Name</th>\n",
       "    </tr>\n",
       "  </thead>\n",
       "  <tbody>\n",
       "    <tr>\n",
       "      <th>0</th>\n",
       "      <td>26</td>\n",
       "      <td>52</td>\n",
       "      <td>38</td>\n",
       "      <td>Sandy</td>\n",
       "      <td>Maize</td>\n",
       "      <td>37</td>\n",
       "      <td>0</td>\n",
       "      <td>0</td>\n",
       "      <td>Urea</td>\n",
       "    </tr>\n",
       "    <tr>\n",
       "      <th>1</th>\n",
       "      <td>29</td>\n",
       "      <td>52</td>\n",
       "      <td>45</td>\n",
       "      <td>Loamy</td>\n",
       "      <td>Sugarcane</td>\n",
       "      <td>12</td>\n",
       "      <td>0</td>\n",
       "      <td>36</td>\n",
       "      <td>DAP</td>\n",
       "    </tr>\n",
       "    <tr>\n",
       "      <th>2</th>\n",
       "      <td>34</td>\n",
       "      <td>65</td>\n",
       "      <td>62</td>\n",
       "      <td>Black</td>\n",
       "      <td>Cotton</td>\n",
       "      <td>7</td>\n",
       "      <td>9</td>\n",
       "      <td>30</td>\n",
       "      <td>14-35-14</td>\n",
       "    </tr>\n",
       "    <tr>\n",
       "      <th>3</th>\n",
       "      <td>32</td>\n",
       "      <td>62</td>\n",
       "      <td>34</td>\n",
       "      <td>Red</td>\n",
       "      <td>Tobacco</td>\n",
       "      <td>22</td>\n",
       "      <td>0</td>\n",
       "      <td>20</td>\n",
       "      <td>28-28</td>\n",
       "    </tr>\n",
       "    <tr>\n",
       "      <th>4</th>\n",
       "      <td>28</td>\n",
       "      <td>54</td>\n",
       "      <td>46</td>\n",
       "      <td>Clayey</td>\n",
       "      <td>Paddy</td>\n",
       "      <td>35</td>\n",
       "      <td>0</td>\n",
       "      <td>0</td>\n",
       "      <td>Urea</td>\n",
       "    </tr>\n",
       "  </tbody>\n",
       "</table>\n",
       "</div>"
      ],
      "text/plain": [
       "   Temparature  Humidity   Moisture Soil Type  Crop Type  Nitrogen  Potassium   \n",
       "0           26         52        38     Sandy      Maize        37          0  \\\n",
       "1           29         52        45     Loamy  Sugarcane        12          0   \n",
       "2           34         65        62     Black     Cotton         7          9   \n",
       "3           32         62        34       Red    Tobacco        22          0   \n",
       "4           28         54        46    Clayey      Paddy        35          0   \n",
       "\n",
       "   Phosphorous Fertilizer Name  \n",
       "0            0            Urea  \n",
       "1           36             DAP  \n",
       "2           30        14-35-14  \n",
       "3           20           28-28  \n",
       "4            0            Urea  "
      ]
     },
     "execution_count": 60,
     "metadata": {},
     "output_type": "execute_result"
    }
   ],
   "source": [
    "fertilizer_data.head()"
   ]
  },
  {
   "cell_type": "code",
   "execution_count": 65,
   "id": "5e5b02dc",
   "metadata": {},
   "outputs": [
    {
     "data": {
      "text/plain": [
       "Index(['Temparature', 'Humidity ', 'Moisture', 'Soil_Type', 'Crop_Type',\n",
       "       'Nitrogen', 'Potassium', 'Phosphorous', 'Fertilizer Name'],\n",
       "      dtype='object')"
      ]
     },
     "execution_count": 65,
     "metadata": {},
     "output_type": "execute_result"
    }
   ],
   "source": [
    "fertilizer_data.rename(columns={'Crop Type': \"Crop_Type\", \"Soil Type\": \"Soil_Type\"}, inplace=True)\n",
    "fertilizer_data.columns"
   ]
  },
  {
   "cell_type": "code",
   "execution_count": 66,
   "id": "e613ea3a",
   "metadata": {},
   "outputs": [],
   "source": [
    "from sklearn import preprocessing \n",
    "label_encoder = preprocessing.LabelEncoder() \n",
    "fertilizer_data['Soil_Type']= label_encoder.fit_transform(fertilizer_data['Soil_Type']) \n",
    "fertilizer_data['Crop_Type']= label_encoder.fit_transform(fertilizer_data['Crop_Type']) "
   ]
  },
  {
   "cell_type": "code",
   "execution_count": 67,
   "id": "1723cd57",
   "metadata": {},
   "outputs": [],
   "source": [
    "### Independent and Dependent features\n",
    "X=fertilizer_data.values[:,0:8]\n",
    "Y=fertilizer_data.values[:,8]"
   ]
  },
  {
   "cell_type": "code",
   "execution_count": 68,
   "id": "85abffa1",
   "metadata": {},
   "outputs": [
    {
     "name": "stdout",
     "output_type": "stream",
     "text": [
      "[[26 52 38 4 3 37 0 0]\n",
      " [29 52 45 2 8 12 0 36]\n",
      " [34 65 62 0 1 7 9 30]\n",
      " [32 62 34 3 9 22 0 20]\n",
      " [28 54 46 1 6 35 0 0]\n",
      " [26 52 35 4 0 12 10 13]\n",
      " [25 50 64 3 1 9 0 10]\n",
      " [33 64 50 2 10 41 0 0]\n",
      " [30 60 42 4 4 21 0 18]\n",
      " [29 58 33 0 5 9 7 30]\n",
      " [27 54 28 1 7 13 0 40]\n",
      " [31 62 48 4 3 14 15 12]\n",
      " [25 50 65 2 1 36 0 0]\n",
      " [32 62 41 1 6 24 0 22]\n",
      " [26 52 31 3 2 14 0 41]\n",
      " [31 62 49 0 8 10 13 14]\n",
      " [33 64 34 1 7 38 0 0]\n",
      " [25 50 39 4 0 21 0 19]\n",
      " [28 54 65 0 1 39 0 0]\n",
      " [29 58 52 2 10 13 0 36]\n",
      " [30 60 44 4 4 10 0 9]\n",
      " [34 65 53 2 8 12 14 12]\n",
      " [35 68 33 3 9 11 0 37]\n",
      " [28 54 37 0 4 36 0 0]\n",
      " [33 64 39 1 6 13 0 10]\n",
      " [26 52 44 4 3 23 0 20]\n",
      " [30 60 63 3 1 9 9 29]\n",
      " [32 62 30 2 8 38 0 0]\n",
      " [37 70 32 0 5 12 0 39]\n",
      " [26 52 36 1 7 14 0 13]\n",
      " [29 58 40 3 2 24 0 23]\n",
      " [30 60 27 2 8 12 0 40]\n",
      " [34 65 38 1 6 39 0 0]\n",
      " [36 68 38 4 0 7 9 30]\n",
      " [26 52 48 2 10 23 0 19]\n",
      " [28 54 35 0 4 41 0 0]\n",
      " [30 60 61 2 1 8 10 31]\n",
      " [37 70 37 1 6 12 0 41]\n",
      " [25 50 26 3 2 15 14 11]\n",
      " [29 58 34 4 4 15 0 37]\n",
      " [27 54 30 1 7 13 0 13]\n",
      " [30 60 58 2 8 10 7 32]\n",
      " [32 62 34 3 9 22 0 24]\n",
      " [34 65 60 0 8 35 0 0]\n",
      " [35 67 42 4 0 10 0 35]\n",
      " [38 70 48 2 10 8 8 28]\n",
      " [26 52 32 0 5 12 0 8]\n",
      " [29 58 43 1 6 24 0 18]\n",
      " [30 60 29 3 2 41 0 0]\n",
      " [33 64 51 4 3 5 9 29]\n",
      " [34 65 31 3 9 23 0 21]\n",
      " [36 68 33 0 5 13 0 14]\n",
      " [28 54 38 1 7 40 0 0]\n",
      " [30 60 47 4 0 12 0 42]\n",
      " [31 62 63 3 1 11 12 15]\n",
      " [27 53 43 0 4 23 0 24]\n",
      " [34 65 54 2 10 38 0 0]\n",
      " [29 58 37 4 4 8 0 15]\n",
      " [25 50 56 2 8 11 13 15]\n",
      " [32 62 34 3 2 15 0 37]\n",
      " [28 54 41 1 6 36 0 0]\n",
      " [30 60 49 2 10 13 0 9]\n",
      " [34 65 64 0 1 24 0 20]\n",
      " [28 54 47 4 0 5 18 15]\n",
      " [27 53 35 0 5 37 0 0]\n",
      " [36 68 62 3 1 15 0 40]\n",
      " [34 65 57 0 8 9 0 13]\n",
      " [29 58 55 2 8 8 8 33]\n",
      " [25 50 40 1 7 6 19 16]\n",
      " [30 60 38 4 4 10 0 14]\n",
      " [26 52 39 1 7 21 0 23]\n",
      " [31 62 32 3 9 39 0 0]\n",
      " [34 65 48 2 10 23 0 19]\n",
      " [27 53 34 0 5 42 0 0]\n",
      " [33 64 31 3 2 13 0 39]\n",
      " [29 58 42 1 6 9 10 22]\n",
      " [30 60 47 4 3 22 0 21]\n",
      " [27 53 59 2 8 10 0 15]\n",
      " [26 52 36 1 7 7 16 20]\n",
      " [34 65 63 3 1 14 0 38]\n",
      " [28 54 43 1 6 10 8 29]\n",
      " [30 60 40 4 4 41 0 0]\n",
      " [29 58 65 0 1 14 0 35]\n",
      " [26 52 59 2 8 11 0 9]\n",
      " [31 62 44 4 0 21 0 28]\n",
      " [35 67 28 1 7 8 7 31]\n",
      " [29 58 30 3 9 13 17 16]\n",
      " [27 53 30 0 4 35 0 0]\n",
      " [36 68 50 2 10 12 18 19]\n",
      " [29 58 61 2 1 11 0 38]\n",
      " [30 60 26 0 5 8 9 30]\n",
      " [34 65 45 1 6 6 19 21]\n",
      " [36 68 41 3 2 41 0 0]\n",
      " [28 54 25 4 3 9 10 30]\n",
      " [25 50 32 1 7 24 0 19]\n",
      " [30 60 27 3 9 4 17 17]\n",
      " [38 72 51 2 10 39 0 0]\n",
      " [36 60 43 4 4 15 0 41]\n",
      " [29 58 57 0 8 12 0 10]]\n"
     ]
    }
   ],
   "source": [
    "print(X)"
   ]
  },
  {
   "cell_type": "code",
   "execution_count": 69,
   "id": "7ed3a10f",
   "metadata": {},
   "outputs": [
    {
     "name": "stdout",
     "output_type": "stream",
     "text": [
      "['Urea' 'DAP' '14-35-14' '28-28' 'Urea' '17-17-17' '20-20' 'Urea' '28-28'\n",
      " '14-35-14' 'DAP' '17-17-17' 'Urea' '28-28' 'DAP' '17-17-17' 'Urea'\n",
      " '28-28' 'Urea' 'DAP' '20-20' '17-17-17' 'DAP' 'Urea' '20-20' '28-28'\n",
      " '14-35-14' 'Urea' 'DAP' '20-20' '28-28' 'DAP' 'Urea' '14-35-14' '28-28'\n",
      " 'Urea' '14-35-14' 'DAP' '17-17-17' 'DAP' '20-20' '14-35-14' '28-28'\n",
      " 'Urea' 'DAP' '14-35-14' '20-20' '28-28' 'Urea' '14-35-14' '28-28' '20-20'\n",
      " 'Urea' 'DAP' '17-17-17' '28-28' 'Urea' '20-20' '17-17-17' 'DAP' 'Urea'\n",
      " '20-20' '28-28' '10-26-26' 'Urea' 'DAP' '20-20' '14-35-14' '10-26-26'\n",
      " '20-20' '28-28' 'Urea' '28-28' 'Urea' 'DAP' '14-35-14' '28-28' '20-20'\n",
      " '10-26-26' 'DAP' '14-35-14' 'Urea' 'DAP' '20-20' '28-28' '14-35-14'\n",
      " '10-26-26' 'Urea' '10-26-26' 'DAP' '14-35-14' '10-26-26' 'Urea'\n",
      " '14-35-14' '28-28' '10-26-26' 'Urea' 'DAP' '20-20']\n"
     ]
    }
   ],
   "source": [
    "print(Y)"
   ]
  },
  {
   "cell_type": "code",
   "execution_count": 70,
   "id": "f487fa3c",
   "metadata": {},
   "outputs": [],
   "source": [
    "### Train Test Split\n",
    "from sklearn.model_selection import train_test_split"
   ]
  },
  {
   "cell_type": "code",
   "execution_count": 87,
   "id": "ed2fea60",
   "metadata": {},
   "outputs": [],
   "source": [
    "X_train,X_test,y_train,y_test=train_test_split(X,Y,test_size=0.45,random_state=3)"
   ]
  },
  {
   "cell_type": "code",
   "execution_count": 88,
   "id": "a93e4baa",
   "metadata": {},
   "outputs": [
    {
     "data": {
      "text/html": [
       "<style>#sk-container-id-4 {color: black;background-color: white;}#sk-container-id-4 pre{padding: 0;}#sk-container-id-4 div.sk-toggleable {background-color: white;}#sk-container-id-4 label.sk-toggleable__label {cursor: pointer;display: block;width: 100%;margin-bottom: 0;padding: 0.3em;box-sizing: border-box;text-align: center;}#sk-container-id-4 label.sk-toggleable__label-arrow:before {content: \"▸\";float: left;margin-right: 0.25em;color: #696969;}#sk-container-id-4 label.sk-toggleable__label-arrow:hover:before {color: black;}#sk-container-id-4 div.sk-estimator:hover label.sk-toggleable__label-arrow:before {color: black;}#sk-container-id-4 div.sk-toggleable__content {max-height: 0;max-width: 0;overflow: hidden;text-align: left;background-color: #f0f8ff;}#sk-container-id-4 div.sk-toggleable__content pre {margin: 0.2em;color: black;border-radius: 0.25em;background-color: #f0f8ff;}#sk-container-id-4 input.sk-toggleable__control:checked~div.sk-toggleable__content {max-height: 200px;max-width: 100%;overflow: auto;}#sk-container-id-4 input.sk-toggleable__control:checked~label.sk-toggleable__label-arrow:before {content: \"▾\";}#sk-container-id-4 div.sk-estimator input.sk-toggleable__control:checked~label.sk-toggleable__label {background-color: #d4ebff;}#sk-container-id-4 div.sk-label input.sk-toggleable__control:checked~label.sk-toggleable__label {background-color: #d4ebff;}#sk-container-id-4 input.sk-hidden--visually {border: 0;clip: rect(1px 1px 1px 1px);clip: rect(1px, 1px, 1px, 1px);height: 1px;margin: -1px;overflow: hidden;padding: 0;position: absolute;width: 1px;}#sk-container-id-4 div.sk-estimator {font-family: monospace;background-color: #f0f8ff;border: 1px dotted black;border-radius: 0.25em;box-sizing: border-box;margin-bottom: 0.5em;}#sk-container-id-4 div.sk-estimator:hover {background-color: #d4ebff;}#sk-container-id-4 div.sk-parallel-item::after {content: \"\";width: 100%;border-bottom: 1px solid gray;flex-grow: 1;}#sk-container-id-4 div.sk-label:hover label.sk-toggleable__label {background-color: #d4ebff;}#sk-container-id-4 div.sk-serial::before {content: \"\";position: absolute;border-left: 1px solid gray;box-sizing: border-box;top: 0;bottom: 0;left: 50%;z-index: 0;}#sk-container-id-4 div.sk-serial {display: flex;flex-direction: column;align-items: center;background-color: white;padding-right: 0.2em;padding-left: 0.2em;position: relative;}#sk-container-id-4 div.sk-item {position: relative;z-index: 1;}#sk-container-id-4 div.sk-parallel {display: flex;align-items: stretch;justify-content: center;background-color: white;position: relative;}#sk-container-id-4 div.sk-item::before, #sk-container-id-4 div.sk-parallel-item::before {content: \"\";position: absolute;border-left: 1px solid gray;box-sizing: border-box;top: 0;bottom: 0;left: 50%;z-index: -1;}#sk-container-id-4 div.sk-parallel-item {display: flex;flex-direction: column;z-index: 1;position: relative;background-color: white;}#sk-container-id-4 div.sk-parallel-item:first-child::after {align-self: flex-end;width: 50%;}#sk-container-id-4 div.sk-parallel-item:last-child::after {align-self: flex-start;width: 50%;}#sk-container-id-4 div.sk-parallel-item:only-child::after {width: 0;}#sk-container-id-4 div.sk-dashed-wrapped {border: 1px dashed gray;margin: 0 0.4em 0.5em 0.4em;box-sizing: border-box;padding-bottom: 0.4em;background-color: white;}#sk-container-id-4 div.sk-label label {font-family: monospace;font-weight: bold;display: inline-block;line-height: 1.2em;}#sk-container-id-4 div.sk-label-container {text-align: center;}#sk-container-id-4 div.sk-container {/* jupyter's `normalize.less` sets `[hidden] { display: none; }` but bootstrap.min.css set `[hidden] { display: none !important; }` so we also need the `!important` here to be able to override the default hidden behavior on the sphinx rendered scikit-learn.org. See: https://github.com/scikit-learn/scikit-learn/issues/21755 */display: inline-block !important;position: relative;}#sk-container-id-4 div.sk-text-repr-fallback {display: none;}</style><div id=\"sk-container-id-4\" class=\"sk-top-container\"><div class=\"sk-text-repr-fallback\"><pre>RandomForestClassifier()</pre><b>In a Jupyter environment, please rerun this cell to show the HTML representation or trust the notebook. <br />On GitHub, the HTML representation is unable to render, please try loading this page with nbviewer.org.</b></div><div class=\"sk-container\" hidden><div class=\"sk-item\"><div class=\"sk-estimator sk-toggleable\"><input class=\"sk-toggleable__control sk-hidden--visually\" id=\"sk-estimator-id-4\" type=\"checkbox\" checked><label for=\"sk-estimator-id-4\" class=\"sk-toggleable__label sk-toggleable__label-arrow\">RandomForestClassifier</label><div class=\"sk-toggleable__content\"><pre>RandomForestClassifier()</pre></div></div></div></div></div>"
      ],
      "text/plain": [
       "RandomForestClassifier()"
      ]
     },
     "execution_count": 88,
     "metadata": {},
     "output_type": "execute_result"
    }
   ],
   "source": [
    "### Implement Random Forest classifier\n",
    "from sklearn.ensemble import RandomForestClassifier\n",
    "classifier=RandomForestClassifier()\n",
    "classifier.fit(X_train,y_train)"
   ]
  },
  {
   "cell_type": "code",
   "execution_count": 89,
   "id": "22bf4bbc",
   "metadata": {},
   "outputs": [],
   "source": [
    "## Prediction\n",
    "y_pred=classifier.predict(X_test)"
   ]
  },
  {
   "cell_type": "code",
   "execution_count": 90,
   "id": "e8b7efbb",
   "metadata": {},
   "outputs": [
    {
     "data": {
      "text/plain": [
       "97.77777777777777"
      ]
     },
     "execution_count": 90,
     "metadata": {},
     "output_type": "execute_result"
    }
   ],
   "source": [
    "### Check Accuracy\n",
    "from sklearn.metrics import accuracy_score\n",
    "score=accuracy_score(y_test,y_pred)\n",
    "score*100"
   ]
  },
  {
   "cell_type": "code",
   "execution_count": 91,
   "id": "fc1a392d",
   "metadata": {},
   "outputs": [],
   "source": [
    "### Create a Pickle file using serialization \n",
    "import pickle\n",
    "pickle_out = open(\"fertilizer_predictor.pkl\",\"wb\")\n",
    "pickle.dump(classifier, pickle_out)\n",
    "pickle_out.close()"
   ]
  },
  {
   "cell_type": "code",
   "execution_count": null,
   "id": "1f51f1e5",
   "metadata": {},
   "outputs": [],
   "source": []
  }
 ],
 "metadata": {
  "kernelspec": {
   "display_name": "Python 3 (ipykernel)",
   "language": "python",
   "name": "python3"
  },
  "language_info": {
   "codemirror_mode": {
    "name": "ipython",
    "version": 3
   },
   "file_extension": ".py",
   "mimetype": "text/x-python",
   "name": "python",
   "nbconvert_exporter": "python",
   "pygments_lexer": "ipython3",
   "version": "3.10.7"
  }
 },
 "nbformat": 4,
 "nbformat_minor": 5
}
